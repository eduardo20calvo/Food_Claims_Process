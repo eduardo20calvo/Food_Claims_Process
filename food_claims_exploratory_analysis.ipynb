{
 "cells": [
  {
   "cell_type": "code",
   "execution_count": 1,
   "id": "d1331955-63c9-4d10-a4b5-d400cc5f037c",
   "metadata": {},
   "outputs": [],
   "source": [
    "### TASK 1"
   ]
  },
  {
   "cell_type": "code",
   "execution_count": 2,
   "id": "affc37a7-ab9b-4397-a0b8-9166ef69ccc4",
   "metadata": {},
   "outputs": [],
   "source": [
    "# Initial imports\n",
    "import pandas as pd\n",
    "import numpy as np\n",
    "from pathlib import Path\n",
    "import matplotlib.pyplot as plt\n",
    "import seaborn as sns"
   ]
  },
  {
   "cell_type": "code",
   "execution_count": 3,
   "id": "02b3b1d9-4f1c-43d3-83e4-f079d4986899",
   "metadata": {
    "tags": []
   },
   "outputs": [
    {
     "data": {
      "text/html": [
       "<div>\n",
       "<style scoped>\n",
       "    .dataframe tbody tr th:only-of-type {\n",
       "        vertical-align: middle;\n",
       "    }\n",
       "\n",
       "    .dataframe tbody tr th {\n",
       "        vertical-align: top;\n",
       "    }\n",
       "\n",
       "    .dataframe thead th {\n",
       "        text-align: right;\n",
       "    }\n",
       "</style>\n",
       "<table border=\"1\" class=\"dataframe\">\n",
       "  <thead>\n",
       "    <tr style=\"text-align: right;\">\n",
       "      <th></th>\n",
       "      <th>claim_id</th>\n",
       "      <th>time_to_close</th>\n",
       "      <th>claim_amount</th>\n",
       "      <th>amount_paid</th>\n",
       "      <th>location</th>\n",
       "      <th>individuals_on_claim</th>\n",
       "      <th>linked_cases</th>\n",
       "      <th>cause</th>\n",
       "    </tr>\n",
       "  </thead>\n",
       "  <tbody>\n",
       "    <tr>\n",
       "      <th>0</th>\n",
       "      <td>1</td>\n",
       "      <td>317</td>\n",
       "      <td>R$ 74474.55</td>\n",
       "      <td>51231.37</td>\n",
       "      <td>RECIFE</td>\n",
       "      <td>15</td>\n",
       "      <td>False</td>\n",
       "      <td>unknown</td>\n",
       "    </tr>\n",
       "    <tr>\n",
       "      <th>1</th>\n",
       "      <td>2</td>\n",
       "      <td>195</td>\n",
       "      <td>R$ 52137.83</td>\n",
       "      <td>42111.30</td>\n",
       "      <td>FORTALEZA</td>\n",
       "      <td>12</td>\n",
       "      <td>True</td>\n",
       "      <td>unknown</td>\n",
       "    </tr>\n",
       "    <tr>\n",
       "      <th>2</th>\n",
       "      <td>3</td>\n",
       "      <td>183</td>\n",
       "      <td>R$ 24447.2</td>\n",
       "      <td>23986.30</td>\n",
       "      <td>SAO LUIS</td>\n",
       "      <td>10</td>\n",
       "      <td>True</td>\n",
       "      <td>meat</td>\n",
       "    </tr>\n",
       "    <tr>\n",
       "      <th>3</th>\n",
       "      <td>4</td>\n",
       "      <td>186</td>\n",
       "      <td>R$ 29006.28</td>\n",
       "      <td>27942.72</td>\n",
       "      <td>FORTALEZA</td>\n",
       "      <td>11</td>\n",
       "      <td>False</td>\n",
       "      <td>meat</td>\n",
       "    </tr>\n",
       "    <tr>\n",
       "      <th>4</th>\n",
       "      <td>5</td>\n",
       "      <td>138</td>\n",
       "      <td>R$ 19520.6</td>\n",
       "      <td>16251.06</td>\n",
       "      <td>RECIFE</td>\n",
       "      <td>11</td>\n",
       "      <td>False</td>\n",
       "      <td>vegetable</td>\n",
       "    </tr>\n",
       "  </tbody>\n",
       "</table>\n",
       "</div>"
      ],
      "text/plain": [
       "   claim_id  time_to_close claim_amount  amount_paid   location  \\\n",
       "0         1            317  R$ 74474.55     51231.37     RECIFE   \n",
       "1         2            195  R$ 52137.83     42111.30  FORTALEZA   \n",
       "2         3            183   R$ 24447.2     23986.30   SAO LUIS   \n",
       "3         4            186  R$ 29006.28     27942.72  FORTALEZA   \n",
       "4         5            138   R$ 19520.6     16251.06     RECIFE   \n",
       "\n",
       "   individuals_on_claim linked_cases      cause  \n",
       "0                    15        False    unknown  \n",
       "1                    12         True    unknown  \n",
       "2                    10         True       meat  \n",
       "3                    11        False       meat  \n",
       "4                    11        False  vegetable  "
      ]
     },
     "execution_count": 3,
     "metadata": {},
     "output_type": "execute_result"
    }
   ],
   "source": [
    "## Read the CSV\n",
    "\n",
    "# Set the file paths\n",
    "food_claims_data = Path('./food_claims_2212.csv')\n",
    "\n",
    "# Read the CSV file\n",
    "food_claims_df = pd.read_csv(food_claims_data)\n",
    "\n",
    "#Display a few rows\n",
    "food_claims_df.head()"
   ]
  },
  {
   "cell_type": "code",
   "execution_count": 4,
   "id": "057e101b-395a-490c-a699-bc654ed9f691",
   "metadata": {
    "tags": []
   },
   "outputs": [
    {
     "name": "stdout",
     "output_type": "stream",
     "text": [
      "2000\n"
     ]
    }
   ],
   "source": [
    "## Analyze each column in DataFrame\n",
    "\n",
    "# Count the number of rows in claim_id column\n",
    "num_rows = len(food_claims_df)\n",
    "\n",
    "# Print the result\n",
    "print(num_rows)"
   ]
  },
  {
   "cell_type": "code",
   "execution_count": 5,
   "id": "31521d3b-a509-4215-ade1-57d3e7fdb834",
   "metadata": {},
   "outputs": [
    {
     "name": "stdout",
     "output_type": "stream",
     "text": [
      "There are no negative values in 'time_to_close' column.\n"
     ]
    }
   ],
   "source": [
    "# Define time_to_close column  \n",
    "time_to_close = 'time_to_close'\n",
    "\n",
    "# Find any negative values\n",
    "if (food_claims_df[time_to_close] < 0).any():\n",
    "    print(f\"There are negative values in '{time_to_close}' column.\")\n",
    "else:\n",
    "    print(f\"There are no negative values in '{time_to_close}' column.\")"
   ]
  },
  {
   "cell_type": "code",
   "execution_count": 6,
   "id": "72d8793c-6ec2-4335-bb52-f29ee3df4398",
   "metadata": {},
   "outputs": [
    {
     "name": "stdout",
     "output_type": "stream",
     "text": [
      "0\n"
     ]
    }
   ],
   "source": [
    "# Find any missing values in the time_to_close column \n",
    "missing_values_ttc = food_claims_df['time_to_close'].isna().sum()\n",
    "\n",
    "# Print the result\n",
    "print(missing_values_ttc)"
   ]
  },
  {
   "cell_type": "code",
   "execution_count": 7,
   "id": "7947ffa2-95c6-4d6b-957b-13f92cbf6790",
   "metadata": {},
   "outputs": [
    {
     "name": "stdout",
     "output_type": "stream",
     "text": [
      "0\n"
     ]
    }
   ],
   "source": [
    "# Define the claim_amount column\n",
    "claim_amount = 'claim_amount'\n",
    "\n",
    "# Remove the first three characters from all values in the specified column\n",
    "food_claims_df[claim_amount] = food_claims_df[claim_amount].str[3:]\n",
    "\n",
    "# Convert the values in the specified column to float\n",
    "food_claims_df[claim_amount] = food_claims_df[claim_amount].astype(float)\n",
    "\n",
    "# Define a function to check if a value is rounded to more than 2 decimal places\n",
    "def is_rounded_to_more_than_2_decimals(value):\n",
    "    return value != round(value, 2)\n",
    "\n",
    "# Apply the function to the specified column and create a boolean mask\n",
    "rounded_values_mask = food_claims_df[claim_amount].apply(is_rounded_to_more_than_2_decimals)\n",
    "\n",
    "# Get the rows where the values are rounded to more than 2 decimal places\n",
    "rounded_values = rounded_values_mask.sum()\n",
    "\n",
    "# Print the result\n",
    "print(rounded_values)"
   ]
  },
  {
   "cell_type": "code",
   "execution_count": 8,
   "id": "854bb410-f974-476c-86e6-698d2291cf46",
   "metadata": {},
   "outputs": [
    {
     "name": "stdout",
     "output_type": "stream",
     "text": [
      "0\n"
     ]
    }
   ],
   "source": [
    "# Find any missing values in the claim_amount column \n",
    "missing_values_ca = food_claims_df['claim_amount'].isna().sum()\n",
    "\n",
    "# Print the result\n",
    "print(missing_values_ca)"
   ]
  },
  {
   "cell_type": "code",
   "execution_count": 9,
   "id": "59a725dc-c0e4-4192-b463-92e41d45002b",
   "metadata": {},
   "outputs": [
    {
     "name": "stdout",
     "output_type": "stream",
     "text": [
      "36\n"
     ]
    }
   ],
   "source": [
    "# Define the amount_paid column\n",
    "amount_paid = 'amount_paid'\n",
    "\n",
    "# Define a function to check if a value is rounded to more than 2 decimal places\n",
    "def is_rounded_to_more_than_2_decimals_ap(value):\n",
    "    return value != round(value, 2)\n",
    "\n",
    "# Apply the function to the specified column and create a boolean mask\n",
    "rounded_values_mask_ap = food_claims_df[amount_paid].apply(is_rounded_to_more_than_2_decimals_ap)\n",
    "\n",
    "# Get the rows where the values are rounded to more than 2 decimal places\n",
    "rounded_values_ap = rounded_values_mask_ap.sum()\n",
    "\n",
    "# Print the result\n",
    "print(rounded_values_ap)"
   ]
  },
  {
   "cell_type": "code",
   "execution_count": 10,
   "id": "cfc0d309-5908-4c3d-b40d-c71d3ee2ae80",
   "metadata": {},
   "outputs": [
    {
     "name": "stdout",
     "output_type": "stream",
     "text": [
      "36\n"
     ]
    }
   ],
   "source": [
    "# Find any missing values in the amount_paid column \n",
    "missing_values_ap = food_claims_df['amount_paid'].isna().sum()\n",
    "\n",
    "# Print the result\n",
    "print(missing_values_ap)"
   ]
  },
  {
   "cell_type": "code",
   "execution_count": 11,
   "id": "33c50998-f2d5-4fdc-b1db-d5a21dca1d16",
   "metadata": {},
   "outputs": [
    {
     "data": {
      "text/html": [
       "<div>\n",
       "<style scoped>\n",
       "    .dataframe tbody tr th:only-of-type {\n",
       "        vertical-align: middle;\n",
       "    }\n",
       "\n",
       "    .dataframe tbody tr th {\n",
       "        vertical-align: top;\n",
       "    }\n",
       "\n",
       "    .dataframe thead th {\n",
       "        text-align: right;\n",
       "    }\n",
       "</style>\n",
       "<table border=\"1\" class=\"dataframe\">\n",
       "  <thead>\n",
       "    <tr style=\"text-align: right;\">\n",
       "      <th></th>\n",
       "      <th>claim_id</th>\n",
       "      <th>time_to_close</th>\n",
       "      <th>claim_amount</th>\n",
       "      <th>amount_paid</th>\n",
       "      <th>location</th>\n",
       "      <th>individuals_on_claim</th>\n",
       "      <th>linked_cases</th>\n",
       "      <th>cause</th>\n",
       "    </tr>\n",
       "  </thead>\n",
       "  <tbody>\n",
       "    <tr>\n",
       "      <th>0</th>\n",
       "      <td>1</td>\n",
       "      <td>317</td>\n",
       "      <td>74474.55</td>\n",
       "      <td>51231.37</td>\n",
       "      <td>RECIFE</td>\n",
       "      <td>15</td>\n",
       "      <td>False</td>\n",
       "      <td>unknown</td>\n",
       "    </tr>\n",
       "    <tr>\n",
       "      <th>1</th>\n",
       "      <td>2</td>\n",
       "      <td>195</td>\n",
       "      <td>52137.83</td>\n",
       "      <td>42111.30</td>\n",
       "      <td>FORTALEZA</td>\n",
       "      <td>12</td>\n",
       "      <td>True</td>\n",
       "      <td>unknown</td>\n",
       "    </tr>\n",
       "    <tr>\n",
       "      <th>2</th>\n",
       "      <td>3</td>\n",
       "      <td>183</td>\n",
       "      <td>24447.20</td>\n",
       "      <td>23986.30</td>\n",
       "      <td>SAO LUIS</td>\n",
       "      <td>10</td>\n",
       "      <td>True</td>\n",
       "      <td>meat</td>\n",
       "    </tr>\n",
       "    <tr>\n",
       "      <th>3</th>\n",
       "      <td>4</td>\n",
       "      <td>186</td>\n",
       "      <td>29006.28</td>\n",
       "      <td>27942.72</td>\n",
       "      <td>FORTALEZA</td>\n",
       "      <td>11</td>\n",
       "      <td>False</td>\n",
       "      <td>meat</td>\n",
       "    </tr>\n",
       "    <tr>\n",
       "      <th>4</th>\n",
       "      <td>5</td>\n",
       "      <td>138</td>\n",
       "      <td>19520.60</td>\n",
       "      <td>16251.06</td>\n",
       "      <td>RECIFE</td>\n",
       "      <td>11</td>\n",
       "      <td>False</td>\n",
       "      <td>vegetable</td>\n",
       "    </tr>\n",
       "  </tbody>\n",
       "</table>\n",
       "</div>"
      ],
      "text/plain": [
       "   claim_id  time_to_close  claim_amount  amount_paid   location  \\\n",
       "0         1            317      74474.55     51231.37     RECIFE   \n",
       "1         2            195      52137.83     42111.30  FORTALEZA   \n",
       "2         3            183      24447.20     23986.30   SAO LUIS   \n",
       "3         4            186      29006.28     27942.72  FORTALEZA   \n",
       "4         5            138      19520.60     16251.06     RECIFE   \n",
       "\n",
       "   individuals_on_claim linked_cases      cause  \n",
       "0                    15        False    unknown  \n",
       "1                    12         True    unknown  \n",
       "2                    10         True       meat  \n",
       "3                    11        False       meat  \n",
       "4                    11        False  vegetable  "
      ]
     },
     "execution_count": 11,
     "metadata": {},
     "output_type": "execute_result"
    }
   ],
   "source": [
    "## Replace all the missing values with median on amount_paid column\n",
    "# Calculate the median of the column (excluding NaN values)\n",
    "median_value = food_claims_df['amount_paid'].median()\n",
    "\n",
    "# Replace NaN values with the calculated median value\n",
    "food_claims_df['amount_paid'].fillna(median_value, inplace=True)\n",
    "\n",
    "# Display a few rows\n",
    "food_claims_df.head()"
   ]
  },
  {
   "cell_type": "code",
   "execution_count": 12,
   "id": "ffb577c3-4b8c-429a-b5e9-9df5cce942b7",
   "metadata": {},
   "outputs": [
    {
     "name": "stdout",
     "output_type": "stream",
     "text": [
      "['RECIFE' 'FORTALEZA' 'SAO LUIS' 'NATAL']\n"
     ]
    }
   ],
   "source": [
    "# Display all unique values in the location column\n",
    "unique_location = food_claims_df['location'].unique()\n",
    "\n",
    "# Print the result\n",
    "print(unique_location)"
   ]
  },
  {
   "cell_type": "code",
   "execution_count": 13,
   "id": "5b719545-008a-4498-991f-5a9a9e3aa044",
   "metadata": {},
   "outputs": [
    {
     "name": "stdout",
     "output_type": "stream",
     "text": [
      "0\n"
     ]
    }
   ],
   "source": [
    "# Find any missing values in the location column \n",
    "missing_values_l = food_claims_df['location'].isna().sum()\n",
    "\n",
    "# Print the result\n",
    "print(missing_values_l)"
   ]
  },
  {
   "cell_type": "code",
   "execution_count": 14,
   "id": "05f0db83-16de-47a7-8d22-b02fc8d28e42",
   "metadata": {},
   "outputs": [
    {
     "name": "stdout",
     "output_type": "stream",
     "text": [
      "[15 12 10 11  8  9  6  7 13  4  2  3 14  5  1]\n"
     ]
    }
   ],
   "source": [
    "# Display all unique values in the individuals_on_claim column\n",
    "unique_individuals = food_claims_df['individuals_on_claim'].unique()\n",
    "\n",
    "# Print the result\n",
    "print(unique_individuals)"
   ]
  },
  {
   "cell_type": "code",
   "execution_count": 15,
   "id": "9ef4ebf3-2306-4495-884f-d515c08426c0",
   "metadata": {},
   "outputs": [
    {
     "name": "stdout",
     "output_type": "stream",
     "text": [
      "0\n"
     ]
    }
   ],
   "source": [
    "# Find any missing values in the individuals_on_claim column \n",
    "missing_values_ioc = food_claims_df['individuals_on_claim'].isna().sum()\n",
    "\n",
    "# Print the result\n",
    "print(missing_values_ioc)"
   ]
  },
  {
   "cell_type": "code",
   "execution_count": 16,
   "id": "768a2cdd-bafa-4f81-8552-5090885d4aee",
   "metadata": {},
   "outputs": [
    {
     "name": "stdout",
     "output_type": "stream",
     "text": [
      "[False True nan]\n"
     ]
    }
   ],
   "source": [
    "# Display all unique values in the linked_cases column\n",
    "unique_linked_cases = food_claims_df['linked_cases'].unique()\n",
    "\n",
    "# Print the result\n",
    "print(unique_linked_cases)"
   ]
  },
  {
   "cell_type": "code",
   "execution_count": 17,
   "id": "ccaa2a16-d5b0-45f7-ad8d-47ed9a761102",
   "metadata": {
    "tags": []
   },
   "outputs": [
    {
     "name": "stdout",
     "output_type": "stream",
     "text": [
      "26\n"
     ]
    }
   ],
   "source": [
    "# Find any missing values in the linked_cases column \n",
    "missing_values_lc = food_claims_df['linked_cases'].isna().sum()\n",
    "\n",
    "# Print the result\n",
    "print(missing_values_lc)"
   ]
  },
  {
   "cell_type": "code",
   "execution_count": 18,
   "id": "369b8bf9-25d6-4bb0-9326-b37c4d96395c",
   "metadata": {
    "tags": []
   },
   "outputs": [
    {
     "data": {
      "text/html": [
       "<div>\n",
       "<style scoped>\n",
       "    .dataframe tbody tr th:only-of-type {\n",
       "        vertical-align: middle;\n",
       "    }\n",
       "\n",
       "    .dataframe tbody tr th {\n",
       "        vertical-align: top;\n",
       "    }\n",
       "\n",
       "    .dataframe thead th {\n",
       "        text-align: right;\n",
       "    }\n",
       "</style>\n",
       "<table border=\"1\" class=\"dataframe\">\n",
       "  <thead>\n",
       "    <tr style=\"text-align: right;\">\n",
       "      <th></th>\n",
       "      <th>claim_id</th>\n",
       "      <th>time_to_close</th>\n",
       "      <th>claim_amount</th>\n",
       "      <th>amount_paid</th>\n",
       "      <th>location</th>\n",
       "      <th>individuals_on_claim</th>\n",
       "      <th>linked_cases</th>\n",
       "      <th>cause</th>\n",
       "    </tr>\n",
       "  </thead>\n",
       "  <tbody>\n",
       "    <tr>\n",
       "      <th>0</th>\n",
       "      <td>1</td>\n",
       "      <td>317</td>\n",
       "      <td>74474.55</td>\n",
       "      <td>51231.37</td>\n",
       "      <td>RECIFE</td>\n",
       "      <td>15</td>\n",
       "      <td>False</td>\n",
       "      <td>unknown</td>\n",
       "    </tr>\n",
       "    <tr>\n",
       "      <th>1</th>\n",
       "      <td>2</td>\n",
       "      <td>195</td>\n",
       "      <td>52137.83</td>\n",
       "      <td>42111.30</td>\n",
       "      <td>FORTALEZA</td>\n",
       "      <td>12</td>\n",
       "      <td>True</td>\n",
       "      <td>unknown</td>\n",
       "    </tr>\n",
       "    <tr>\n",
       "      <th>2</th>\n",
       "      <td>3</td>\n",
       "      <td>183</td>\n",
       "      <td>24447.20</td>\n",
       "      <td>23986.30</td>\n",
       "      <td>SAO LUIS</td>\n",
       "      <td>10</td>\n",
       "      <td>True</td>\n",
       "      <td>meat</td>\n",
       "    </tr>\n",
       "    <tr>\n",
       "      <th>3</th>\n",
       "      <td>4</td>\n",
       "      <td>186</td>\n",
       "      <td>29006.28</td>\n",
       "      <td>27942.72</td>\n",
       "      <td>FORTALEZA</td>\n",
       "      <td>11</td>\n",
       "      <td>False</td>\n",
       "      <td>meat</td>\n",
       "    </tr>\n",
       "    <tr>\n",
       "      <th>4</th>\n",
       "      <td>5</td>\n",
       "      <td>138</td>\n",
       "      <td>19520.60</td>\n",
       "      <td>16251.06</td>\n",
       "      <td>RECIFE</td>\n",
       "      <td>11</td>\n",
       "      <td>False</td>\n",
       "      <td>vegetable</td>\n",
       "    </tr>\n",
       "    <tr>\n",
       "      <th>...</th>\n",
       "      <td>...</td>\n",
       "      <td>...</td>\n",
       "      <td>...</td>\n",
       "      <td>...</td>\n",
       "      <td>...</td>\n",
       "      <td>...</td>\n",
       "      <td>...</td>\n",
       "      <td>...</td>\n",
       "    </tr>\n",
       "    <tr>\n",
       "      <th>1995</th>\n",
       "      <td>1996</td>\n",
       "      <td>176</td>\n",
       "      <td>28982.30</td>\n",
       "      <td>24265.02</td>\n",
       "      <td>RECIFE</td>\n",
       "      <td>10</td>\n",
       "      <td>False</td>\n",
       "      <td>meat</td>\n",
       "    </tr>\n",
       "    <tr>\n",
       "      <th>1996</th>\n",
       "      <td>1997</td>\n",
       "      <td>166</td>\n",
       "      <td>5188.44</td>\n",
       "      <td>4772.77</td>\n",
       "      <td>FORTALEZA</td>\n",
       "      <td>2</td>\n",
       "      <td>True</td>\n",
       "      <td>meat</td>\n",
       "    </tr>\n",
       "    <tr>\n",
       "      <th>1997</th>\n",
       "      <td>1998</td>\n",
       "      <td>179</td>\n",
       "      <td>11975.85</td>\n",
       "      <td>10087.81</td>\n",
       "      <td>RECIFE</td>\n",
       "      <td>4</td>\n",
       "      <td>True</td>\n",
       "      <td>meat</td>\n",
       "    </tr>\n",
       "    <tr>\n",
       "      <th>1998</th>\n",
       "      <td>1999</td>\n",
       "      <td>162</td>\n",
       "      <td>23516.28</td>\n",
       "      <td>23310.24</td>\n",
       "      <td>RECIFE</td>\n",
       "      <td>9</td>\n",
       "      <td>False</td>\n",
       "      <td>meat</td>\n",
       "    </tr>\n",
       "    <tr>\n",
       "      <th>1999</th>\n",
       "      <td>2000</td>\n",
       "      <td>150</td>\n",
       "      <td>8051.40</td>\n",
       "      <td>6417.92</td>\n",
       "      <td>RECIFE</td>\n",
       "      <td>4</td>\n",
       "      <td>False</td>\n",
       "      <td>vegetable</td>\n",
       "    </tr>\n",
       "  </tbody>\n",
       "</table>\n",
       "<p>2000 rows × 8 columns</p>\n",
       "</div>"
      ],
      "text/plain": [
       "      claim_id  time_to_close  claim_amount  amount_paid   location  \\\n",
       "0            1            317      74474.55     51231.37     RECIFE   \n",
       "1            2            195      52137.83     42111.30  FORTALEZA   \n",
       "2            3            183      24447.20     23986.30   SAO LUIS   \n",
       "3            4            186      29006.28     27942.72  FORTALEZA   \n",
       "4            5            138      19520.60     16251.06     RECIFE   \n",
       "...        ...            ...           ...          ...        ...   \n",
       "1995      1996            176      28982.30     24265.02     RECIFE   \n",
       "1996      1997            166       5188.44      4772.77  FORTALEZA   \n",
       "1997      1998            179      11975.85     10087.81     RECIFE   \n",
       "1998      1999            162      23516.28     23310.24     RECIFE   \n",
       "1999      2000            150       8051.40      6417.92     RECIFE   \n",
       "\n",
       "      individuals_on_claim  linked_cases      cause  \n",
       "0                       15         False    unknown  \n",
       "1                       12          True    unknown  \n",
       "2                       10          True       meat  \n",
       "3                       11         False       meat  \n",
       "4                       11         False  vegetable  \n",
       "...                    ...           ...        ...  \n",
       "1995                    10         False       meat  \n",
       "1996                     2          True       meat  \n",
       "1997                     4          True       meat  \n",
       "1998                     9         False       meat  \n",
       "1999                     4         False  vegetable  \n",
       "\n",
       "[2000 rows x 8 columns]"
      ]
     },
     "execution_count": 18,
     "metadata": {},
     "output_type": "execute_result"
    }
   ],
   "source": [
    "## Replace all the missing values with False on linked_cases column\n",
    "food_claims_df['linked_cases'].fillna(False, inplace=True)\n",
    "\n",
    "# Display DataFrame\n",
    "food_claims_df"
   ]
  },
  {
   "cell_type": "code",
   "execution_count": 19,
   "id": "08cab289-bc8e-4c11-9e5a-627c33d49726",
   "metadata": {
    "tags": []
   },
   "outputs": [
    {
     "name": "stdout",
     "output_type": "stream",
     "text": [
      "['unknown' 'meat' 'vegetable' ' Meat' 'VEGETABLES']\n"
     ]
    }
   ],
   "source": [
    "# Display all unique values in the cause column\n",
    "unique_cause = food_claims_df['cause'].unique()\n",
    "\n",
    "# Print the result\n",
    "print(unique_cause)"
   ]
  },
  {
   "cell_type": "code",
   "execution_count": 20,
   "id": "6659c835-f4eb-4bdf-b586-f8122c6d1347",
   "metadata": {
    "tags": []
   },
   "outputs": [
    {
     "name": "stdout",
     "output_type": "stream",
     "text": [
      "['unknown' 'meat' 'vegetable']\n"
     ]
    }
   ],
   "source": [
    "## Manipulate all strings in cause column to match 'vegetable', 'meat', or 'unknown'\n",
    "# Trim any whitespaces and lowercase the strings\n",
    "food_claims_df['cause'] = food_claims_df['cause'].str.strip().str.lower()\n",
    "\n",
    "# Make all 'vegetable' objects singular\n",
    "food_claims_df['cause'] = food_claims_df['cause'].str.replace(r'vegetables$', 'vegetable', regex=True)\n",
    "\n",
    "# Print the result\n",
    "print(food_claims_df['cause'].unique())"
   ]
  },
  {
   "cell_type": "code",
   "execution_count": 21,
   "id": "c43f4789-58df-4c86-b709-0f2423a98bc1",
   "metadata": {},
   "outputs": [
    {
     "name": "stdout",
     "output_type": "stream",
     "text": [
      "2000 rows\n",
      "claim_id                0\n",
      "time_to_close           0\n",
      "claim_amount            0\n",
      "amount_paid             0\n",
      "location                0\n",
      "individuals_on_claim    0\n",
      "linked_cases            0\n",
      "cause                   0\n",
      "dtype: int64\n"
     ]
    }
   ],
   "source": [
    "# Confirm the number of rows are the same and no nulls before further analysis\n",
    "print(len(food_claims_df), 'rows')\n",
    "print(food_claims_df.isna().sum())"
   ]
  },
  {
   "cell_type": "code",
   "execution_count": 22,
   "id": "6e451f26-28f3-43f6-9a74-fef842b46f09",
   "metadata": {
    "tags": []
   },
   "outputs": [
    {
     "name": "stdout",
     "output_type": "stream",
     "text": [
      "location\n",
      "FORTALEZA    311\n",
      "NATAL        287\n",
      "RECIFE       885\n",
      "SAO LUIS     517\n",
      "Name: claim_id, dtype: int64\n"
     ]
    }
   ],
   "source": [
    "### TASK 2\n",
    "\n",
    "# Group the DataFrame by 'location'\n",
    "food_claims_grouped = food_claims_df.groupby('location')\n",
    "\n",
    "# Compute count for each 'location'\n",
    "food_claims_count = food_claims_grouped['claim_id'].count()\n",
    "\n",
    "# Print the count result\n",
    "print(food_claims_count)"
   ]
  },
  {
   "cell_type": "code",
   "execution_count": 23,
   "id": "2de7fefb-d3a7-441d-be0f-cabb6bbc0cda",
   "metadata": {
    "tags": []
   },
   "outputs": [
    {
     "data": {
      "image/png": "[encoded data removed]",
      "text/plain": [
       "<Figure size 432x288 with 1 Axes>"
      ]
     },
     "metadata": {
      "needs_background": "light"
     },
     "output_type": "display_data"
    }
   ],
   "source": [
    "# Create bar graph comparing number of claims per location\n",
    "food_claims_count.plot(kind='bar', x='location', color='orange', edgecolor='black', legend=False)\n",
    "\n",
    "# Add title, labels and gridline\n",
    "plt.title('Number of Claims v. Location', fontweight='bold')\n",
    "plt.xlabel('Location', fontweight='bold')\n",
    "plt.ylabel('Number of Claims', fontweight='bold')\n",
    "plt.xticks(rotation=45)\n",
    "plt.grid(True)\n",
    "\n",
    "# Show the plot\n",
    "plt.show()"
   ]
  },
  {
   "cell_type": "code",
   "execution_count": 24,
   "id": "09126322-945f-461e-8114-f962abdc4f02",
   "metadata": {
    "tags": []
   },
   "outputs": [
    {
     "data": {
      "image/png": "[encoded data removed]",
      "text/plain": [
       "<Figure size 432x288 with 1 Axes>"
      ]
     },
     "metadata": {
      "needs_background": "light"
     },
     "output_type": "display_data"
    }
   ],
   "source": [
    "### TASK 3\n",
    "\n",
    "# Create a histogram to show distribution on 'time_to_close'\n",
    "plt.hist(food_claims_df['time_to_close'], bins=15, color='skyblue', edgecolor='black')\n",
    "\n",
    "# Add labels and a title\n",
    "plt.xlabel('Time to Close', fontweight='bold')\n",
    "plt.ylabel('Count', fontweight='bold')\n",
    "plt.title('Time to Close Distribution', fontweight='bold')\n",
    "\n",
    "# Show the plot\n",
    "plt.show()"
   ]
  },
  {
   "cell_type": "code",
   "execution_count": 25,
   "id": "8b0d63f9-ceb1-4f93-926b-a4524c9602c1",
   "metadata": {
    "tags": []
   },
   "outputs": [
    {
     "name": "stdout",
     "output_type": "stream",
     "text": [
      "location\n",
      "FORTALEZA    311\n",
      "NATAL        287\n",
      "RECIFE       885\n",
      "SAO LUIS     517\n",
      "Name: time_to_close, dtype: int64\n"
     ]
    }
   ],
   "source": [
    "### TASK 4\n",
    "\n",
    "# Group the DataFrame by 'location'\n",
    "time_to_close_grouped = food_claims_df.groupby('location')\n",
    "\n",
    "# Compute count for each 'location'\n",
    "time_to_close_count = time_to_close_grouped['time_to_close'].count()\n",
    "\n",
    "# Print the count result\n",
    "print(time_to_close_count)"
   ]
  },
  {
   "cell_type": "code",
   "execution_count": 26,
   "id": "8670283a-1154-4a86-93cb-0c8c512f2cb1",
   "metadata": {
    "tags": []
   },
   "outputs": [
    {
     "data": {
      "image/png": "[encoded data removed]",
      "text/plain": [
       "<Figure size 432x288 with 1 Axes>"
      ]
     },
     "metadata": {
      "needs_background": "light"
     },
     "output_type": "display_data"
    }
   ],
   "source": [
    "# Create a DataFrame (replace this with your own DataFrame)\n",
    "\n",
    "\n",
    "# Create a box plot using Seaborn, grouping by the 'Group' column\n",
    "sns.boxplot(data=df, x='Group', y='Column1', color='skyblue', width=0.4)\n",
    "\n",
    "\n",
    "# Add labels and a title\n",
    "plt.xlabel('Group')\n",
    "plt.ylabel('Values')\n",
    "plt.title('Box Plot Comparing Column1 and Column2 by Group')\n",
    "\n",
    "# Show the plot\n",
    "plt.show()"
   ]
  },
  {
   "cell_type": "code",
   "execution_count": null,
   "id": "9ae2ce54-c3e9-4818-a302-52f81813f99b",
   "metadata": {},
   "outputs": [],
   "source": [
    "# Create a DataFrame (replace this with your own DataFrame)\n",
    "data = {\n",
    "    'Group': ['A', 'A', 'B', 'B', 'A', 'B', 'A', 'B', 'A', 'B'],\n",
    "    'Column1': [10, 15, 20, 25, 30, 35, 40, 45, 50, 55],\n",
    "    'Column2': [5, 12, 18, 22, 28, 32, 38, 42, 48, 52]\n",
    "}\n",
    "df = pd.DataFrame(data)\n",
    "\n",
    "# Create a box plot using Seaborn, grouping by the 'Group' column\n",
    "sns.boxplot(data=df, x='Group', y='Column1', color='skyblue', width=0.4)\n",
    "sns.boxplot(data=df, x='Group', y='Column2', color='lightcoral', width=0.4)\n",
    "\n",
    "# Add labels and a title\n",
    "plt.xlabel('Group')\n",
    "plt.ylabel('Values')\n",
    "plt.title('Box Plot Comparing Column1 and Column2 by Group')\n",
    "\n",
    "# Show the plot\n",
    "plt.show()"
   ]
  }
 ],
 "metadata": {
  "kernelspec": {
   "display_name": "Python 3 (ipykernel)",
   "language": "python",
   "name": "python3"
  },
  "language_info": {
   "codemirror_mode": {
    "name": "ipython",
    "version": 3
   },
   "file_extension": ".py",
   "mimetype": "text/x-python",
   "name": "python",
   "nbconvert_exporter": "python",
   "pygments_lexer": "ipython3",
   "version": "3.7.11"
  }
 },
 "nbformat": 4,
 "nbformat_minor": 5
}
